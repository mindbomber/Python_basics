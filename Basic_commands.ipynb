{
 "cells": [
  {
   "cell_type": "markdown",
   "metadata": {},
   "source": [
    "# Types"
   ]
  },
  {
   "cell_type": "code",
   "execution_count": 1,
   "metadata": {},
   "outputs": [
    {
     "name": "stdout",
     "output_type": "stream",
     "text": [
      "<class 'int'> <class 'float'> <class 'str'> <class 'bool'>\n"
     ]
    }
   ],
   "source": [
    "# data types\n",
    "\n",
    "year_of_birth = 1994  #int\n",
    "height_cm = 170.50  #float\n",
    "subject = \"Data Science\"  #string\n",
    "is_success = True  #boolean\n",
    "\n",
    "print(type(year_of_birth), type(height_cm), type(subject), type(is_success))  #can check type"
   ]
  },
  {
   "cell_type": "markdown",
   "metadata": {},
   "source": [
    "# Subsetting list"
   ]
  },
  {
   "cell_type": "code",
   "execution_count": 2,
   "metadata": {},
   "outputs": [
    {
     "data": {
      "text/plain": [
       "['kiwi', 'orange', 'strawberry', 'lemon', 'apple', 'pineapple']"
      ]
     },
     "execution_count": 2,
     "metadata": {},
     "output_type": "execute_result"
    }
   ],
   "source": [
    "#create list, find subset, and slicee\n",
    "# [start:end(not included):step(by how many)]\n",
    "\n",
    "fruits = [\"pineapple\", \"apple\", \"lemon\", \"strawberry\", \"orange\", \"kiwi\"] # creates list called \"friuts\"\n",
    "fruits[1]  # apple\n",
    "fruits[0]  # \"pineapple\"\n",
    "fruits[-1] # \"kiwi\"\n",
    "fruits[5]  # \"kiwi\"\n",
    "fruits[-3] # \"strawberry\"\n",
    "\n",
    "# List slicing\n",
    "fruits[::]    # [\"pineapple\", \"apple\", \"lemon\", \"strawberry\", \"orange\", \"kiwi\"]\n",
    "fruits[0:2]   # [\"pineapple\", \"apple\"]\n",
    "fruits[-2:-1] # [\"orange\"]\n",
    "fruits[3:]    # [\"strawberry\", \"orange\", \"kiwi\"]\n",
    "fruits[:4]    # [\"pineapple\", \"apple\", \"lemon\", \"strawberry\"]\n",
    "fruits[:]     # [\"pineapple\", \"apple\", \"lemon\", \"strawberry\", \"orange\", \"kiwi\"]\n",
    "fruits[::-1]  # [\"kiwi\", \"orange\", \"strawberry\", \"lemon\", \"apple\", \"pineapple\"]\n",
    "fruits[::-2]  # [\"kiwi\", \"strawberry\", \"apple\"]\n",
    "fruits[::2]   # [\"pineapple\", \"lemon\", \"orange\"]\n",
    "\n",
    "# Understanding some default values\n",
    "fruits[0:6:1]    # the same result as the result from fruits[::]\n",
    "fruits[-1:-7:-1] # the same result as the result from fruits[::-1]"
   ]
  },
  {
   "cell_type": "code",
   "execution_count": 3,
   "metadata": {},
   "outputs": [
    {
     "name": "stdout",
     "output_type": "stream",
     "text": [
      "['pineapple', 'apple', 'lemon', 'strawberry', 'orange', 'kiwi']\n"
     ]
    }
   ],
   "source": [
    "print(fruits)"
   ]
  },
  {
   "cell_type": "code",
   "execution_count": 4,
   "metadata": {},
   "outputs": [
    {
     "name": "stdout",
     "output_type": "stream",
     "text": [
      "['pineapple']\n"
     ]
    }
   ],
   "source": [
    "print(fruits[0:-1:6])"
   ]
  },
  {
   "cell_type": "code",
   "execution_count": 5,
   "metadata": {},
   "outputs": [
    {
     "data": {
      "text/plain": [
       "['pineapple', 'apple', 'lemon', 'strawberry', 'orange', 'kiwi']"
      ]
     },
     "execution_count": 5,
     "metadata": {},
     "output_type": "execute_result"
    }
   ],
   "source": [
    "fruits"
   ]
  },
  {
   "cell_type": "markdown",
   "metadata": {},
   "source": [
    "# List Manipulation"
   ]
  },
  {
   "cell_type": "code",
   "execution_count": 6,
   "metadata": {},
   "outputs": [
    {
     "data": {
      "text/plain": [
       "['grape', 'lemon', 'strawberry', 'orange', 'kiwi', 'peach', 'fig', 'melon']"
      ]
     },
     "execution_count": 6,
     "metadata": {},
     "output_type": "execute_result"
    }
   ],
   "source": [
    "# Add values to a list\n",
    "fruits.append(\"peach\")\n",
    "fruits # [\"pineapple\", \"apple\", \"lemon\", \"strawberry\", \"orange\", \"kiwi\", \"peach\"]\n",
    "fruits = fruits + [\"fig\", \"melon\"] # using + opperator\n",
    "fruits # [\"pineapple\", \"apple\", \"lemon\", \"strawberry\", \"orange\", \"kiwi\", \"peach\", \"fig\", \"melon\"]\n",
    "\n",
    "# Change values from a list\n",
    "fruits[0:2] = [\"grape\", \"mango\"]\n",
    "fruits # [\"grape\", \"mango\", \"lemon\", \"strawberry\", \"orange\", \"kiwi\", \"peach\", \"fig\", \"melon\"]\n",
    "\n",
    "# Delete values from a list\n",
    "fruits.remove(\"mango\")\n",
    "fruits # [\"grape\", \"lemon\", \"strawberry\", \"orange\", \"kiwi\", \"peach\", \"fig\", \"melon\"]"
   ]
  },
  {
   "cell_type": "code",
   "execution_count": 7,
   "metadata": {},
   "outputs": [
    {
     "data": {
      "text/plain": [
       "['A', 'B', 'D']"
      ]
     },
     "execution_count": 7,
     "metadata": {},
     "output_type": "execute_result"
    }
   ],
   "source": [
    "# copy that also changes original\n",
    "\n",
    "numbers = [10, 42, 28, 420]\n",
    "numbers_copy = numbers\n",
    "numbers_copy[2] = 100\n",
    "numbers      # [10, 42, 100, 420]\n",
    "numbers_copy # [10, 42, 100, 420]\n",
    "\n",
    "# make copy without changing original\n",
    "\n",
    "ratings = [4.5, 5.0, 3.5, 4.75, 4.00]\n",
    "ratings_copy = ratings[:]\n",
    "ratings_copy[0] = 2.0\n",
    "ratings      # [4.5, 5.0, 3.5, 4.75, 4.0]\n",
    "ratings_copy # [2.0, 5.0, 3.5, 4.75, 4.0]\n",
    "\n",
    "# or\n",
    "\n",
    "characters = [\"A\", \"B\", \"C\"]\n",
    "characters_copy = list(characters)\n",
    "characters_copy[-1] = \"D\"\n",
    "characters      # [\"A\", \"B\", \"C\"]\n",
    "characters_copy # [\"A\", \"B\", \"D\"]"
   ]
  },
  {
   "cell_type": "markdown",
   "metadata": {},
   "source": [
    "# Dictionaries"
   ]
  },
  {
   "cell_type": "code",
   "execution_count": 8,
   "metadata": {},
   "outputs": [
    {
     "name": "stdout",
     "output_type": "stream",
     "text": [
      "7.7\n"
     ]
    }
   ],
   "source": [
    "# dictionary made with curly brackets\n",
    "ratings = {\n",
    "    \"Ex Machina\": 7.7,\n",
    "    \"Mad Max: Fury Road\": 8.1,\n",
    "    \"1408\" : 6.8\n",
    "}\n",
    "\n",
    "print(ratings[\"Ex Machina\"]) # 7.7"
   ]
  },
  {
   "cell_type": "code",
   "execution_count": 9,
   "metadata": {},
   "outputs": [
    {
     "data": {
      "text/plain": [
       "{'Ex Machina': 7.7, 'Mad Max: Fury Road': 8.1, '1408': 6.8}"
      ]
     },
     "execution_count": 9,
     "metadata": {},
     "output_type": "execute_result"
    }
   ],
   "source": [
    "ratings"
   ]
  },
  {
   "cell_type": "code",
   "execution_count": 10,
   "metadata": {},
   "outputs": [
    {
     "name": "stdout",
     "output_type": "stream",
     "text": [
      "{'Ex Machina': 7.7, 'Mad Max: Fury Road': 8.1, '1408': 6.8, 'Deadpool': 8.0}\n",
      "{'Ex Machina': 7.8, 'Mad Max: Fury Road': 8.1, '1408': 6.8, 'Deadpool': 8.0}\n",
      "{'Ex Machina': 7.8, 'Mad Max: Fury Road': 8.1, 'Deadpool': 8.0}\n"
     ]
    }
   ],
   "source": [
    "# add data\n",
    "ratings[\"Deadpool\"] = 8.0\n",
    "print(ratings) # {'Ex Machina': 7.7, 'Mad Max: Fury Road': 8.1, '1408': 6.8, 'Deadpool': 8.0}\n",
    "\n",
    "# update data\n",
    "ratings[\"Ex Machina\"] = 7.8\n",
    "print(ratings) # {'Ex Machina': 7.8, 'Mad Max: Fury Road': 8.1, '1408': 6.8, 'Deadpool': 8.0}\n",
    "\n",
    "# delete data\n",
    "del(ratings[\"1408\"])\n",
    "print(ratings) # {'Ex Machina': 7.8, 'Mad Max: Fury Road': 8.1, 'Deadpool': 8.0}"
   ]
  },
  {
   "cell_type": "code",
   "execution_count": 11,
   "metadata": {},
   "outputs": [
    {
     "name": "stdout",
     "output_type": "stream",
     "text": [
      "True\n"
     ]
    }
   ],
   "source": [
    "# check if data is in dictionary\n",
    "print(\"Ex Machina\" in ratings) # True"
   ]
  },
  {
   "cell_type": "markdown",
   "metadata": {},
   "source": [
    "# Functions"
   ]
  },
  {
   "cell_type": "code",
   "execution_count": 12,
   "metadata": {},
   "outputs": [],
   "source": [
    "# make functionswith def to solve specific task if not already included in python\n",
    "#funcions included: max(iterable [, key]), , min(iterable [, key]), type(object), round(number [, ndigits])\n",
    "# We can use the function help([object]) or ?function_name to see the documentation of any function.\n",
    "\n",
    "def is_prime(n):\n",
    "    if n <= 1:\n",
    "        return False\n",
    "    elif n <= 3:\n",
    "        return True\n",
    "    elif n % 2 == 0 or n % 3 == 0:\n",
    "        return False\n",
    "    current_number = 5\n",
    "    while current_number * current_number <= n:\n",
    "        if n % current_number == 0 or n % (current_number + 2) == 0:\n",
    "            return False\n",
    "        current_number = current_number + 6\n",
    "    return True"
   ]
  },
  {
   "cell_type": "markdown",
   "metadata": {},
   "source": [
    "# Methods"
   ]
  },
  {
   "cell_type": "code",
   "execution_count": 13,
   "metadata": {},
   "outputs": [
    {
     "name": "stdout",
     "output_type": "stream",
     "text": [
      "[10, 9, 9, 2, 0, 4, 1]\n",
      "[0, 1, 2, 4, 9, 9, 10]\n",
      "dict_keys(['Ex Machina', 'Mad Max: Fury Road', '1408'])\n",
      "dict_values([7.7, 8.1, 6.8])\n",
      "dict_items([('Ex Machina', 7.7), ('Mad Max: Fury Road', 8.1), ('1408', 6.8)])\n"
     ]
    }
   ],
   "source": [
    "\n",
    "# String methods\n",
    "text = \"Data Science\" \n",
    "text.upper() # \"DATA SCIENCE\"\n",
    "text.lower() # \"data science\"\n",
    "text.capitalize() # \"Data science\"\n",
    "\n",
    "# Lists methods\n",
    "numbers = [1, 4, 0, 2, 9, 9, 10]\n",
    "numbers.reverse()\n",
    "print(numbers) # [10, 9, 9, 2, 0, 4, 1]\n",
    "numbers.sort()\n",
    "print(numbers) # [0, 1, 2, 4, 9, 9, 10]\n",
    "\n",
    "# Dictionaris methods\n",
    "ratings = {\n",
    "    \"Ex Machina\": 7.7,\n",
    "    \"Mad Max: Fury Road\": 8.1,\n",
    "    \"1408\" : 6.8\n",
    "}\n",
    "\n",
    "print(ratings.keys()) # dict_keys(['Ex Machina', 'Mad Max: Fury Road', '1408'])\n",
    "print(ratings.values()) # dict_values([7.7, 8.1, 6.8])\n",
    "print(ratings.items()) # dict_items([('Ex Machina', 7.7), ('Mad Max: Fury Road', 8.1), ('1408', 6.8)])"
   ]
  },
  {
   "cell_type": "code",
   "execution_count": 14,
   "metadata": {},
   "outputs": [
    {
     "name": "stdout",
     "output_type": "stream",
     "text": [
      "2\n",
      "7\n",
      "3\n",
      "2\n"
     ]
    }
   ],
   "source": [
    "numbers = [10, 30, 55, 40, 8, 30, 30]\n",
    "text = \"Data Science\"\n",
    "\n",
    "print(numbers.index(55))  # 4\n",
    "print(text.index(\"i\"))   # 1\n",
    "\n",
    "print(numbers.count(30)) # 2\n",
    "print(text.count(\"a\"))   # 1"
   ]
  },
  {
   "cell_type": "markdown",
   "metadata": {},
   "source": [
    "# NumPy"
   ]
  },
  {
   "cell_type": "code",
   "execution_count": 15,
   "metadata": {},
   "outputs": [
    {
     "data": {
      "text/plain": [
       "array([ 0.  , 42.  , 53.99])"
      ]
     },
     "execution_count": 15,
     "metadata": {},
     "output_type": "execute_result"
    }
   ],
   "source": [
    "import numpy as np\n",
    "\n",
    "# NumPy Array — Type Converting\n",
    "\n",
    "np.array([False, 42, \"Data Science\"])       # array([\"False\", \"42\", \"Data Science\"], dtype=\"<U12\")\n",
    "np.array([False, 42], dtype = int)          # array([ 0, 42])\n",
    "np.array([False, 42, 53.99], dtype = float) # array([  0.  ,  42.  ,  53.99])\n"
   ]
  },
  {
   "cell_type": "code",
   "execution_count": 16,
   "metadata": {},
   "outputs": [
    {
     "data": {
      "text/plain": [
       "array([ -9, -18, -27])"
      ]
     },
     "execution_count": 16,
     "metadata": {},
     "output_type": "execute_result"
    }
   ],
   "source": [
    "# Operators on np.array\n",
    "\n",
    "\n",
    "np.array([37, 48, 50]) + 1 # array([38, 49, 51])\n",
    "np.array([20, 30, 40]) * 2 # array([40, 60, 80])\n",
    "np.array([42, 10, 60]) / 2 # array([ 21.,   5.,  30.])\n",
    "\n",
    "np.array([1, 2, 3]) * np.array([10, 20, 30]) # array([10, 40, 90])\n",
    "np.array([1, 2, 3]) - np.array([10, 20, 30]) # array([ -9, -18, -27])"
   ]
  },
  {
   "cell_type": "code",
   "execution_count": 17,
   "metadata": {},
   "outputs": [
    {
     "data": {
      "text/plain": [
       "array([[5, 6],\n",
       "       [8, 9]])"
      ]
     },
     "execution_count": 17,
     "metadata": {},
     "output_type": "execute_result"
    }
   ],
   "source": [
    "# Subsetting 2-dimensional arrays\n",
    "\n",
    "numbers = np.array([\n",
    "    [1, 2, 3],\n",
    "    [4, 5, 6],\n",
    "    [7, 8, 9],\n",
    "    [10, 11, 12]\n",
    "])\n",
    "\n",
    "numbers[2, 1]     # 8\n",
    "numbers[-1, 0]    # 10\n",
    "numbers[0]        # array([1, 2, 3])\n",
    "numbers[:, 0]     # array([ 1,  4,  7, 10])\n",
    "numbers[0:3, 2]   # array([3, 6, 9])\n",
    "numbers[1:3, 1:3] # array([[5, 6],[8, 9]])"
   ]
  },
  {
   "cell_type": "code",
   "execution_count": 18,
   "metadata": {},
   "outputs": [
    {
     "data": {
      "text/plain": [
       "(5, 3)"
      ]
     },
     "execution_count": 18,
     "metadata": {},
     "output_type": "execute_result"
    }
   ],
   "source": [
    "# check shape of array\n",
    "\n",
    "numbers = np.array([\n",
    "    [1, 2, 3],\n",
    "    [4, 5, 6],\n",
    "    [7, 8, 9],\n",
    "    [10, 11, 12],\n",
    "    [13, 14, 15]\n",
    "])\n",
    "\n",
    "numbers.shape # (5, 3)"
   ]
  },
  {
   "cell_type": "markdown",
   "metadata": {},
   "source": [
    "# basic stats"
   ]
  },
  {
   "cell_type": "code",
   "execution_count": 19,
   "metadata": {},
   "outputs": [
    {
     "data": {
      "text/plain": [
       "array([[1.        , 0.88964891],\n",
       "       [0.88964891, 1.        ]])"
      ]
     },
     "execution_count": 19,
     "metadata": {},
     "output_type": "execute_result"
    }
   ],
   "source": [
    "learning_hours = [1, 2, 6, 4, 10]\n",
    "grades = [3, 4, 6, 5, 6]\n",
    "\n",
    "np.mean(learning_hours)   # 4.6 = average\n",
    "np.median(learning_hours) # 4.0 = middle number or if even avg of middle #\n",
    "np.std(learning_hours)    # 3.2 = standard deviation\n",
    "np.corrcoef(learning_hours, grades) # [[ 1.          0.88964891][ 0.88964891  1.        ]] = to see if there is correlation"
   ]
  },
  {
   "cell_type": "markdown",
   "metadata": {},
   "source": [
    "# Loops and iterables"
   ]
  },
  {
   "cell_type": "code",
   "execution_count": 20,
   "metadata": {},
   "outputs": [
    {
     "name": "stdout",
     "output_type": "stream",
     "text": [
      "10\n",
      "12\n",
      "15\n",
      "18\n",
      "20\n"
     ]
    }
   ],
   "source": [
    "# simple \"for\" loop \n",
    "\n",
    "numbers = [10, 12, 15, 18, 20]\n",
    "for number in numbers:\n",
    "    print(number)"
   ]
  },
  {
   "cell_type": "code",
   "execution_count": 21,
   "metadata": {},
   "outputs": [
    {
     "name": "stdout",
     "output_type": "stream",
     "text": [
      "10\n",
      "blueberry\n",
      "❤\n"
     ]
    }
   ],
   "source": [
    "# lists strings and tuples\n",
    "\n",
    "numbers = [10, 12, 15, 18, 20]  # list\n",
    "fruits = (\"apple\", \"pineapple\", \"blueberry\")  #tuple\n",
    "message = \"I love Python ❤️\"  #string\n",
    "\n",
    "\n",
    "\n",
    "# Element access using integer indices\n",
    "print(numbers[0])\n",
    "print(fruits[2])\n",
    "print(message[-2])"
   ]
  },
  {
   "cell_type": "code",
   "execution_count": 22,
   "metadata": {},
   "outputs": [
    {
     "name": "stdout",
     "output_type": "stream",
     "text": [
      "[10, 12]\n",
      "('pineapple', 'blueberry')\n",
      "love Python ❤️\n"
     ]
    }
   ],
   "source": [
    "# Slicing the sequences\n",
    "print(numbers[:2])\n",
    "print(fruits[1:])\n",
    "print(message[2:])"
   ]
  },
  {
   "cell_type": "code",
   "execution_count": 23,
   "metadata": {},
   "outputs": [],
   "source": [
    "# other iterables Sets, Dictionaries, Files, and Generators.\n",
    "\n",
    "my_set = {2, 3, 5}\n",
    "my_dict = {\"name\": \"Ventsislav\", \"age\": 24}\n",
    "my_file = open(\"example.txt\")\n",
    "squares = (n**2 for n in my_set)"
   ]
  },
  {
   "cell_type": "code",
   "execution_count": 24,
   "metadata": {},
   "outputs": [
    {
     "name": "stdout",
     "output_type": "stream",
     "text": [
      "1\n",
      "2\n",
      "3\n",
      "4\n",
      "5\n"
     ]
    }
   ],
   "source": [
    "# using \"while\" only create index for lists\n",
    "\n",
    "index = 0\n",
    "numbers = [1, 2, 3, 4, 5]\n",
    "while index < len(numbers):\n",
    "    print(numbers[index])\n",
    "    index += 1"
   ]
  },
  {
   "cell_type": "code",
   "execution_count": 25,
   "metadata": {},
   "outputs": [
    {
     "name": "stdout",
     "output_type": "stream",
     "text": [
      "1\n",
      "2\n",
      "3\n",
      "4\n",
      "5\n"
     ]
    }
   ],
   "source": [
    "# using \"for\" to create index for dict objects\n",
    "\n",
    "numbers = {1, 2, 3, 4, 5}\n",
    "for number in numbers:\n",
    "    print(number)"
   ]
  },
  {
   "cell_type": "markdown",
   "metadata": {},
   "source": [
    "# iterators"
   ]
  },
  {
   "cell_type": "code",
   "execution_count": 26,
   "metadata": {},
   "outputs": [
    {
     "name": "stdout",
     "output_type": "stream",
     "text": [
      "<list_iterator object at 0x000001D0894692C8>\n",
      "<tuple_iterator object at 0x000001D089469308>\n",
      "<str_iterator object at 0x000001D0894692C8>\n"
     ]
    }
   ],
   "source": [
    "# create iterator with \"iter\"\n",
    "numbers = [10, 12, 15, 18, 20]\n",
    "fruits = (\"apple\", \"pineapple\", \"blueberry\")\n",
    "message = \"I love Python ❤️\"\n",
    "\n",
    "print(iter(numbers))\n",
    "print(iter(fruits))\n",
    "print(iter(message))"
   ]
  },
  {
   "cell_type": "code",
   "execution_count": 27,
   "metadata": {},
   "outputs": [
    {
     "name": "stdout",
     "output_type": "stream",
     "text": [
      "10\n",
      "20\n",
      "30\n",
      "40\n"
     ]
    }
   ],
   "source": [
    "# \"next() returnd succesive item from list\"\n",
    "values = [10, 20, 30, 40]\n",
    "iterator = iter(values)\n",
    "\n",
    "print(next(iterator))\n",
    "print(next(iterator))\n",
    "print(next(iterator))\n",
    "print(next(iterator))"
   ]
  },
  {
   "cell_type": "code",
   "execution_count": 28,
   "metadata": {},
   "outputs": [
    {
     "name": "stdout",
     "output_type": "stream",
     "text": [
      "1\n",
      "2\n",
      "3\n",
      "4\n",
      "5\n"
     ]
    }
   ],
   "source": [
    "# define a function that loops through an iterable without using a for loop.\n",
    "\n",
    "def custom_for_loop(iterable, action_to_do):\n",
    "    iterator = iter(iterable)\n",
    "    done_looping = False\n",
    "    while not done_looping:\n",
    "        try:\n",
    "            item = next(iterator)\n",
    "        except StopIteration:\n",
    "            done_looping = True\n",
    "        else:\n",
    "            action_to_do(item)\n",
    "            \n",
    "\n",
    "# Using the function above\n",
    "\n",
    "numbers = {1, 2, 3, 4, 5}\n",
    "custom_for_loop(numbers, print)\n"
   ]
  },
  {
   "cell_type": "code",
   "execution_count": 29,
   "metadata": {},
   "outputs": [
    {
     "name": "stdout",
     "output_type": "stream",
     "text": [
      "True\n",
      "100\n",
      "200\n",
      "300\n"
     ]
    }
   ],
   "source": [
    "numbers = [100, 200, 300]\n",
    "iterator1 = iter(numbers)\n",
    "iterator2 = iter(iterator1)\n",
    "\n",
    "# Check if they are the same object\n",
    "print(iterator1 is iterator2)\n",
    "\n",
    "for number in iterator1:\n",
    "    print(number)"
   ]
  },
  {
   "cell_type": "code",
   "execution_count": 30,
   "metadata": {},
   "outputs": [
    {
     "name": "stdout",
     "output_type": "stream",
     "text": [
      "<class 'enumerate'>\n",
      "(0, 'apple')\n"
     ]
    }
   ],
   "source": [
    "# enumerate example\n",
    "fruits = (\"apple\", \"pineapple\", \"blueberry\")\n",
    "iterator = enumerate(fruits)\n",
    "print(type(iterator))\n",
    "print(next(iterator))"
   ]
  },
  {
   "cell_type": "code",
   "execution_count": 31,
   "metadata": {},
   "outputs": [
    {
     "name": "stdout",
     "output_type": "stream",
     "text": [
      "<class 'reversed'>\n",
      "blueberry\n"
     ]
    }
   ],
   "source": [
    "# reversed example\n",
    "fruits = (\"apple\", \"pineapple\", \"blueberry\")\n",
    "iterator = reversed(fruits)\n",
    "print(type(iterator))\n",
    "print(next(iterator))"
   ]
  },
  {
   "cell_type": "code",
   "execution_count": 32,
   "metadata": {},
   "outputs": [
    {
     "name": "stdout",
     "output_type": "stream",
     "text": [
      "<class 'zip'>\n",
      "(1, 1)\n",
      "(2, 4)\n"
     ]
    }
   ],
   "source": [
    "# zip example\n",
    "numbers = [1, 2, 3]\n",
    "squares = [1, 4, 9]\n",
    "iterator = zip(numbers, squares)\n",
    "print(type(iterator))\n",
    "print(next(iterator))\n",
    "print(next(iterator))"
   ]
  },
  {
   "cell_type": "code",
   "execution_count": 33,
   "metadata": {},
   "outputs": [
    {
     "name": "stdout",
     "output_type": "stream",
     "text": [
      "<class 'map'>\n",
      "1\n",
      "4\n"
     ]
    }
   ],
   "source": [
    "# map example\n",
    "numbers = [1, 2, 3, 4, 5]\n",
    "squared = map(lambda x: x**2, numbers)\n",
    "print(type(squared))\n",
    "print(next(squared))\n",
    "print(next(squared))"
   ]
  },
  {
   "cell_type": "code",
   "execution_count": 34,
   "metadata": {},
   "outputs": [
    {
     "name": "stdout",
     "output_type": "stream",
     "text": [
      "<class 'filter'>\n",
      "3\n"
     ]
    }
   ],
   "source": [
    "# filter example\n",
    "\n",
    "numbers = [-1, -2, 3, -4, 5]\n",
    "positive = filter(lambda x: x > 0, numbers)\n",
    "print(type(positive))\n",
    "print(next(positive))"
   ]
  },
  {
   "cell_type": "code",
   "execution_count": 35,
   "metadata": {},
   "outputs": [
    {
     "name": "stdout",
     "output_type": "stream",
     "text": [
      "<class '_io.TextIOWrapper'>\n",
      "This is some example text for python projec basic\n",
      "\n",
      "i am testing this to see if it workes\n",
      "\n",
      "adding a new line to see if wont get stop iteration\n"
     ]
    }
   ],
   "source": [
    "# fie is also iterator\n",
    "\n",
    "file = open(\"example.txt\")\n",
    "print(type(file))\n",
    "print(next(file))\n",
    "print(next(file))\n",
    "print(next(file))\n",
    "file.close()"
   ]
  },
  {
   "cell_type": "code",
   "execution_count": 36,
   "metadata": {},
   "outputs": [
    {
     "name": "stdout",
     "output_type": "stream",
     "text": [
      "<class 'dict_items'>\n",
      "name Armando\n",
      "age 37\n"
     ]
    }
   ],
   "source": [
    "# iterate over key-value pairs of a Python dictionary using the items() method\n",
    "my_dict = {\"name\": \"Armando\", \"age\": 37}\n",
    "iterator = my_dict.items()\n",
    "print(type(iterator))\n",
    "for key, item in iterator:\n",
    "    print(key, item)"
   ]
  },
  {
   "cell_type": "code",
   "execution_count": 37,
   "metadata": {},
   "outputs": [
    {
     "name": "stdout",
     "output_type": "stream",
     "text": [
      "{'Iris-setosa': 50, 'Iris-versicolor': 50, 'Iris-virginica': 50}\n"
     ]
    }
   ],
   "source": [
    "import pandas as pd  # to read_csv\n",
    "\n",
    "# load the data in chunks, then perform the desired operation/s on each chunk\n",
    "\n",
    "# Initialize an empty dictionary\n",
    "counts_dict = {}\n",
    "\n",
    "# Iterate over the file chunk by chunk\n",
    "for chunk in pd.read_csv(\"iris.csv\", chunksize = 10):\n",
    "    # Iterate over the \"species\" column in DataFrame\n",
    "    for entry in chunk[\"species\"]:\n",
    "        if entry in counts_dict.keys():\n",
    "            counts_dict[entry] += 1\n",
    "        else:\n",
    "            counts_dict[entry] = 1\n",
    "\n",
    "# Print the populated dictionary\n",
    "print(counts_dict)"
   ]
  },
  {
   "cell_type": "code",
   "execution_count": 38,
   "metadata": {},
   "outputs": [
    {
     "name": "stdout",
     "output_type": "stream",
     "text": [
      "<class '__main__.generate_numbers'>\n",
      "40\n",
      "41\n",
      "42\n"
     ]
    }
   ],
   "source": [
    "# custom iterator (not ideal)\n",
    "\n",
    "class generate_numbers:\n",
    "    def __init__(self, min_value, max_value):\n",
    "        self.current = min_value\n",
    "        self.high = max_value\n",
    "\n",
    "    def __iter__(self):\n",
    "        return self\n",
    "\n",
    "    def __next__(self):\n",
    "        if self.current > self.high:\n",
    "            raise StopIteration\n",
    "        else:\n",
    "            self.current += 1\n",
    "            return self.current - 1\n",
    "\n",
    "numbers = generate_numbers(40, 50)\n",
    "print(type(numbers))\n",
    "print(next(numbers))\n",
    "print(next(numbers))\n",
    "print(next(numbers))"
   ]
  },
  {
   "cell_type": "code",
   "execution_count": 39,
   "metadata": {},
   "outputs": [
    {
     "name": "stdout",
     "output_type": "stream",
     "text": [
      "<class 'generator'>\n",
      "10\n",
      "11\n",
      "12\n"
     ]
    }
   ],
   "source": [
    "# recreate custome iterator above with generate_numbers and yeild expression (better way!)\n",
    "\n",
    "def generate_numbers(min_value, max_value):\n",
    "    while min_value < max_value:\n",
    "        yield min_value\n",
    "        min_value += 1\n",
    "\n",
    "numbers = generate_numbers(10, 20)\n",
    "print(type(numbers))\n",
    "print(next(numbers))\n",
    "print(next(numbers))\n",
    "print(next(numbers))"
   ]
  },
  {
   "cell_type": "code",
   "execution_count": 40,
   "metadata": {},
   "outputs": [
    {
     "name": "stdout",
     "output_type": "stream",
     "text": [
      "<class 'generator'>\n",
      "1\n",
      "4\n",
      "9\n"
     ]
    }
   ],
   "source": [
    "# The general formula is:\n",
    "# (output expression \"for\" iterator variable \"in\" iterable)\n",
    "\n",
    "numbers = [1, 2, 3, 4, 5]\n",
    "squares = (number**2 for number in numbers)\n",
    "print(type(squares))\n",
    "print(next(squares))\n",
    "print(next(squares))\n",
    "print(next(squares))"
   ]
  },
  {
   "cell_type": "code",
   "execution_count": 41,
   "metadata": {},
   "outputs": [
    {
     "name": "stdout",
     "output_type": "stream",
     "text": [
      "<class 'generator'>\n",
      "[4, 16]\n"
     ]
    }
   ],
   "source": [
    "# add a conditional expression on the iterable\n",
    "\n",
    "numbers = [1, 2, 3, 4, 5]\n",
    "squares = (number**2 for number in numbers if number % 2 == 0)\n",
    "print(type(squares))\n",
    "print(list(squares))"
   ]
  },
  {
   "cell_type": "code",
   "execution_count": 42,
   "metadata": {},
   "outputs": [
    {
     "name": "stdout",
     "output_type": "stream",
     "text": [
      "<class 'generator'>\n",
      "[16]\n"
     ]
    }
   ],
   "source": [
    "# multiple conditional expressions on the iterable for more complex filtering\n",
    "\n",
    "numbers = [1, 2, 3, 4, 5]\n",
    "squares = (number**2 for number in numbers if number % 2 == 0 if number % 4 == 0)\n",
    "print(type(squares))\n",
    "print(list(squares))"
   ]
  },
  {
   "cell_type": "code",
   "execution_count": 43,
   "metadata": {},
   "outputs": [
    {
     "name": "stdout",
     "output_type": "stream",
     "text": [
      "<class 'generator'>\n",
      "['odd', 'even', 'odd', 'even', 'odd']\n"
     ]
    }
   ],
   "source": [
    "# add an if-else clause on the output expression \n",
    "\n",
    "numbers = [1, 2, 3, 4, 5]\n",
    "result = (\"even\" if number % 2 == 0 else \"odd\" for number in numbers)\n",
    "print(type(result))\n",
    "print(list(result))"
   ]
  },
  {
   "cell_type": "markdown",
   "metadata": {},
   "source": [
    "# list comprehension"
   ]
  },
  {
   "cell_type": "code",
   "execution_count": 44,
   "metadata": {},
   "outputs": [
    {
     "name": "stdout",
     "output_type": "stream",
     "text": [
      "[1, 4, 9, 16, 25]\n"
     ]
    }
   ],
   "source": [
    "# The components of a list comprehension are: Output Expression (Optional), Iterable, Iterator variable which represents the members of the iterable\n",
    "\n",
    "numbers = [1, 2, 3, 4, 5]\n",
    "squares = [number**2 for number in numbers]\n",
    "print(squares)"
   ]
  },
  {
   "cell_type": "code",
   "execution_count": 45,
   "metadata": {},
   "outputs": [
    {
     "name": "stdout",
     "output_type": "stream",
     "text": [
      "[9, 16, 25]\n"
     ]
    }
   ],
   "source": [
    "# advanced list comprehensions which include a conditional statement on the iterable.\n",
    "\n",
    "numbers = [1, 2, 3, 4, 5]\n",
    "squares = [number**2 for number in numbers if number > 2]\n",
    "print(squares)"
   ]
  },
  {
   "cell_type": "code",
   "execution_count": 46,
   "metadata": {},
   "outputs": [
    {
     "name": "stdout",
     "output_type": "stream",
     "text": [
      "[9, 16, 25]\n"
     ]
    }
   ],
   "source": [
    "# comprehension using for loop (not iedeal compared to above)\n",
    "\n",
    "numbers = [1, 2, 3, 4, 5]\n",
    "squares = []\n",
    "for number in numbers:\n",
    "    if number > 2:\n",
    "        squares.append(number**2)\n",
    "print(squares)"
   ]
  },
  {
   "cell_type": "code",
   "execution_count": 47,
   "metadata": {},
   "outputs": [
    {
     "name": "stdout",
     "output_type": "stream",
     "text": [
      "5.4619700999999985\n",
      "3.0684547000000038\n"
     ]
    }
   ],
   "source": [
    "#\"for\" loop vs list comprehension computatuinal speed usig timeit\n",
    "\n",
    "import timeit\n",
    "\n",
    "def squares(size):\n",
    "    result = []\n",
    "    for number in range(size):\n",
    "        result.append(number*number)\n",
    "    return result\n",
    "\n",
    "def squares_comprehension(size):\n",
    "    return [number*number for number in range(size)]\n",
    "\n",
    "print(timeit.timeit(\"squares(50)\", \"from __main__ import squares\", number = 1_000_000))\n",
    "print(timeit.timeit(\"squares_comprehension(50)\", \"from __main__ import squares_comprehension\", number = 1_000_000))\n"
   ]
  },
  {
   "cell_type": "code",
   "execution_count": 48,
   "metadata": {},
   "outputs": [
    {
     "name": "stdout",
     "output_type": "stream",
     "text": [
      "[1, 4, 9, 16, 25]\n",
      "[1, 4, 9, 16, 25]\n"
     ]
    }
   ],
   "source": [
    "# lambda functions are passed as parameters to functions which expect a function object as one of their parameters like map and filter\n",
    "\n",
    "# Map\n",
    "numbers = [1, 2, 3, 4, 5]\n",
    "squares = list(map(lambda x: x**2, numbers))\n",
    "print(squares)\n",
    "\n",
    "# List Comprehension\n",
    "numbers = [1, 2, 3, 4, 5]\n",
    "squares = [number**2 for number in numbers]\n",
    "print(squares)"
   ]
  },
  {
   "cell_type": "code",
   "execution_count": 49,
   "metadata": {},
   "outputs": [
    {
     "name": "stdout",
     "output_type": "stream",
     "text": [
      "[2, 4]\n",
      "[2, 4]\n"
     ]
    }
   ],
   "source": [
    "#The filter function constructs an iterator from elements of iterable for which the passed function returns true\n",
    "\n",
    "# Filter\n",
    "numbers = [1, 2, 3, 4, 5]\n",
    "filtered = list(filter(lambda x: x % 2 == 0, numbers))\n",
    "print(filtered)\n",
    "\n",
    "# List Comprehension\n",
    "numbers = [1, 2, 3, 4, 5]\n",
    "filtered = [number for number in numbers if number % 2 == 0]\n",
    "print(filtered)"
   ]
  },
  {
   "cell_type": "markdown",
   "metadata": {},
   "source": [
    "# more complex list comprehension"
   ]
  },
  {
   "cell_type": "code",
   "execution_count": 50,
   "metadata": {},
   "outputs": [
    {
     "name": "stdout",
     "output_type": "stream",
     "text": [
      "[6, 18]\n"
     ]
    }
   ],
   "source": [
    "# many contitionl statements on iterable\n",
    "# output expression for item in iterable if conditions\n",
    "\n",
    "numbers = [1, 2, 3, 4, 5, 6, 18, 20]\n",
    "squares = [number for number in numbers if number % 2 == 0 if number % 3 == 0]\n",
    "print(squares)"
   ]
  },
  {
   "cell_type": "code",
   "execution_count": 51,
   "metadata": {},
   "outputs": [
    {
     "name": "stdout",
     "output_type": "stream",
     "text": [
      "['small', 'big']\n"
     ]
    }
   ],
   "source": [
    "# if-else clause on the output expression\n",
    "# output expression if/elde statement for itmens in iterable if conditions on iterable\n",
    "\n",
    "numbers = [1, 2, 3, 4, 5, 6, 18, 20]\n",
    "squares = [\"small\" if number < 10 else \"big\" for number in numbers if number % 2 == 0 if number % 3 == 0]\n",
    "print(squares)"
   ]
  },
  {
   "cell_type": "code",
   "execution_count": 52,
   "metadata": {},
   "outputs": [
    {
     "name": "stdout",
     "output_type": "stream",
     "text": [
      "['small', 'big']\n"
     ]
    }
   ],
   "source": [
    "# above can also be written like this for more readablilty\n",
    "\n",
    "numbers = [1, 2, 3, 4, 5, 6, 18, 20]\n",
    "squares = [\n",
    "    \"small\" if number < 10 else \"big\" \n",
    "    for number in numbers \n",
    "    if number % 2 == 0 \n",
    "    if number % 3 == 0]\n",
    "print(squares)"
   ]
  },
  {
   "cell_type": "markdown",
   "metadata": {},
   "source": [
    "# nested for loops"
   ]
  },
  {
   "cell_type": "code",
   "execution_count": 53,
   "metadata": {},
   "outputs": [
    {
     "name": "stdout",
     "output_type": "stream",
     "text": [
      "[1, 2, 3, 4, 5, 6, 7, 8, 9]\n"
     ]
    }
   ],
   "source": [
    "#using for loops to flatten matrix\n",
    "\n",
    "matrix = [[1, 2, 3], [4, 5, 6], [7, 8, 9]]\n",
    "\n",
    "flattened = []\n",
    "for row in matrix:\n",
    "    for item in row:\n",
    "        flattened.append(item)\n",
    "        \n",
    "print(flattened)"
   ]
  },
  {
   "cell_type": "code",
   "execution_count": 54,
   "metadata": {},
   "outputs": [
    {
     "name": "stdout",
     "output_type": "stream",
     "text": [
      "[1, 2, 3, 4, 5, 6, 7, 8, 9]\n"
     ]
    }
   ],
   "source": [
    "# same thing can be done using list comprehensoin\n",
    "\n",
    "matrix = [[1, 2, 3], [4, 5, 6], [7, 8, 9]]\n",
    "flattened = [item for row in matrix for item in row]        \n",
    "print(flattened)"
   ]
  },
  {
   "cell_type": "markdown",
   "metadata": {},
   "source": [
    "# nested list comprehension"
   ]
  },
  {
   "cell_type": "code",
   "execution_count": 55,
   "metadata": {},
   "outputs": [
    {
     "name": "stdout",
     "output_type": "stream",
     "text": [
      "[[0, 1, 2, 3, 4], [0, 1, 2, 3, 4], [0, 1, 2, 3, 4]]\n"
     ]
    }
   ],
   "source": [
    "# if we place a list comprehension in the output expression of another list comprehension, we’ll get a matrix as result.\n",
    "\n",
    "matrix = [[item for item in range(5)] for row in range(3)]\n",
    "print(matrix)"
   ]
  },
  {
   "cell_type": "markdown",
   "metadata": {},
   "source": [
    "# other comprehensions"
   ]
  },
  {
   "cell_type": "code",
   "execution_count": 56,
   "metadata": {},
   "outputs": [
    {
     "name": "stdout",
     "output_type": "stream",
     "text": [
      "{'beer': 2.0, 'fish': 5.0, 'apple': 1.0}\n"
     ]
    }
   ],
   "source": [
    "# dictiopnary comprehensions\n",
    "\n",
    "prices = {\"beer\": 2, \"fish\": 5, \"apple\": 1}\n",
    "float_prices = {key:float(value) for key, value in prices.items()}\n",
    "print(float_prices)"
   ]
  },
  {
   "cell_type": "code",
   "execution_count": 57,
   "metadata": {},
   "outputs": [
    {
     "name": "stdout",
     "output_type": "stream",
     "text": [
      "{0, 1, 900, 100, 400, 144}\n"
     ]
    }
   ],
   "source": [
    "# set comprehensions\n",
    "\n",
    "numbers = [10, 10, 20, 30, 12, -20, 0, 1]\n",
    "unique_squares = {number**2 for number in numbers}\n",
    "print(unique_squares)"
   ]
  },
  {
   "cell_type": "code",
   "execution_count": null,
   "metadata": {},
   "outputs": [],
   "source": []
  }
 ],
 "metadata": {
  "kernelspec": {
   "display_name": "Python 3",
   "language": "python",
   "name": "python3"
  },
  "language_info": {
   "codemirror_mode": {
    "name": "ipython",
    "version": 3
   },
   "file_extension": ".py",
   "mimetype": "text/x-python",
   "name": "python",
   "nbconvert_exporter": "python",
   "pygments_lexer": "ipython3",
   "version": "3.7.4"
  }
 },
 "nbformat": 4,
 "nbformat_minor": 2
}
